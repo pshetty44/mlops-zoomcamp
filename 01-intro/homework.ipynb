{
 "cells": [
  {
   "cell_type": "code",
   "execution_count": 1,
   "id": "bdb22e08-51a5-4a85-bf81-9aac6d1b7abf",
   "metadata": {},
   "outputs": [],
   "source": [
    "import pandas as pd\n",
    "import numpy as np\n",
    "from sklearn.feature_extraction import DictVectorizer\n",
    "from sklearn.linear_model import LinearRegression\n",
    "from sklearn.metrics import mean_squared_error"
   ]
  },
  {
   "cell_type": "code",
   "execution_count": 2,
   "id": "4f3eb39a-6aff-4964-97c9-2ae395542cf9",
   "metadata": {},
   "outputs": [
    {
     "data": {
      "text/plain": [
       "'2.1.4'"
      ]
     },
     "execution_count": 2,
     "metadata": {},
     "output_type": "execute_result"
    }
   ],
   "source": [
    "pd.__version__"
   ]
  },
  {
   "cell_type": "code",
   "execution_count": 3,
   "id": "c983d14a-6369-4071-8552-d9843a6864c6",
   "metadata": {},
   "outputs": [],
   "source": [
    "df_jan_2023 = pd.read_parquet('https://d37ci6vzurychx.cloudfront.net/trip-data/yellow_tripdata_2023-01.parquet')"
   ]
  },
  {
   "cell_type": "code",
   "execution_count": 4,
   "id": "8951ac24-956a-417c-8661-83fbec432492",
   "metadata": {},
   "outputs": [],
   "source": [
    "df_feb_2023 = pd.read_parquet('https://d37ci6vzurychx.cloudfront.net/trip-data/yellow_tripdata_2023-02.parquet')"
   ]
  },
  {
   "cell_type": "code",
   "execution_count": 5,
   "id": "1b39d5e4-b40f-43ca-9fc6-dc47446bf887",
   "metadata": {},
   "outputs": [
    {
     "name": "stdout",
     "output_type": "stream",
     "text": [
      "Total columns in Jan 2023 yellow cab data is 19\n"
     ]
    }
   ],
   "source": [
    "print('Total columns in Jan 2023 yellow cab data is' , len(df_jan_2023.columns))"
   ]
  },
  {
   "cell_type": "code",
   "execution_count": 6,
   "id": "85051dd0-00bd-4d8f-beb3-c5a5bd92e0f6",
   "metadata": {},
   "outputs": [
    {
     "name": "stdout",
     "output_type": "stream",
     "text": [
      "Standard deviation of the trips duration in January 42.5943442974141\n"
     ]
    }
   ],
   "source": [
    "#for timedelta type, use dt accessor\n",
    "#https://stackoverflow.com/questions/70554811/the-difference-between-pandas-timedelta-and-timedelta64ns\n",
    "df_jan_2023['duration'] = (df_jan_2023.tpep_dropoff_datetime - df_jan_2023.tpep_pickup_datetime).dt.total_seconds()/60\n",
    "print('Standard deviation of the trips duration in January' , np.std(df_jan_2023['duration']))"
   ]
  },
  {
   "cell_type": "code",
   "execution_count": 7,
   "id": "e856a898-c4e5-43ca-bf15-d0ebb0388f6a",
   "metadata": {},
   "outputs": [
    {
     "name": "stdout",
     "output_type": "stream",
     "text": [
      "Fraction of the records left after dropping the outliers: 0.9812202822125979\n"
     ]
    }
   ],
   "source": [
    "#By default, includes boundaries \n",
    "#https://pandas.pydata.org/pandas-docs/stable/reference/api/pandas.Series.between.html\n",
    "df_jan_2023_no_outliers = df_jan_2023[df_jan_2023['duration'].between(1, 60)]\n",
    "print('Fraction of the records left after dropping the outliers:', len(df_jan_2023_no_outliers)/len(df_jan_2023))"
   ]
  },
  {
   "cell_type": "code",
   "execution_count": 8,
   "id": "e9707c08-8d6e-4640-a285-574f9fbd8582",
   "metadata": {},
   "outputs": [
    {
     "name": "stderr",
     "output_type": "stream",
     "text": [
      "/tmp/ipykernel_10222/1317329178.py:2: SettingWithCopyWarning: \n",
      "A value is trying to be set on a copy of a slice from a DataFrame.\n",
      "Try using .loc[row_indexer,col_indexer] = value instead\n",
      "\n",
      "See the caveats in the documentation: https://pandas.pydata.org/pandas-docs/stable/user_guide/indexing.html#returning-a-view-versus-a-copy\n",
      "  df_jan_2023_no_outliers[categorical] = df_jan_2023_no_outliers[categorical].astype(str)\n"
     ]
    }
   ],
   "source": [
    "categorical = ['PULocationID', 'DOLocationID']\n",
    "df_jan_2023_no_outliers[categorical] = df_jan_2023_no_outliers[categorical].astype(str)"
   ]
  },
  {
   "cell_type": "code",
   "execution_count": 9,
   "id": "bb8d6a90-931b-4a25-888e-5898e75431cd",
   "metadata": {},
   "outputs": [],
   "source": [
    "train_dicts = df_jan_2023_no_outliers[categorical].to_dict(orient='records')"
   ]
  },
  {
   "cell_type": "code",
   "execution_count": 10,
   "id": "8832b25d-07cb-47b9-9b4f-9874222020cb",
   "metadata": {},
   "outputs": [],
   "source": [
    "dv = DictVectorizer()\n",
    "X_train = dv.fit_transform(train_dicts)"
   ]
  },
  {
   "cell_type": "code",
   "execution_count": 11,
   "id": "6b10440f-4fcd-47f3-a3af-10db5464fe94",
   "metadata": {},
   "outputs": [
    {
     "name": "stdout",
     "output_type": "stream",
     "text": [
      "Dimensionality(no of columns) of the matrix:  515\n"
     ]
    }
   ],
   "source": [
    "print('Dimensionality(no of columns) of the matrix: ', X_train.shape[1])"
   ]
  },
  {
   "cell_type": "code",
   "execution_count": 12,
   "id": "e7cbb3ac-cad2-4c93-9dca-8e8f4eff9a1b",
   "metadata": {},
   "outputs": [],
   "source": [
    "target = 'duration'\n",
    "y_train = df_jan_2023_no_outliers[target].values"
   ]
  },
  {
   "cell_type": "code",
   "execution_count": 13,
   "id": "930a540e-bb25-4e27-bdba-1ccac1cb6cf7",
   "metadata": {},
   "outputs": [
    {
     "data": {
      "text/html": [
       "<style>#sk-container-id-1 {color: black;background-color: white;}#sk-container-id-1 pre{padding: 0;}#sk-container-id-1 div.sk-toggleable {background-color: white;}#sk-container-id-1 label.sk-toggleable__label {cursor: pointer;display: block;width: 100%;margin-bottom: 0;padding: 0.3em;box-sizing: border-box;text-align: center;}#sk-container-id-1 label.sk-toggleable__label-arrow:before {content: \"▸\";float: left;margin-right: 0.25em;color: #696969;}#sk-container-id-1 label.sk-toggleable__label-arrow:hover:before {color: black;}#sk-container-id-1 div.sk-estimator:hover label.sk-toggleable__label-arrow:before {color: black;}#sk-container-id-1 div.sk-toggleable__content {max-height: 0;max-width: 0;overflow: hidden;text-align: left;background-color: #f0f8ff;}#sk-container-id-1 div.sk-toggleable__content pre {margin: 0.2em;color: black;border-radius: 0.25em;background-color: #f0f8ff;}#sk-container-id-1 input.sk-toggleable__control:checked~div.sk-toggleable__content {max-height: 200px;max-width: 100%;overflow: auto;}#sk-container-id-1 input.sk-toggleable__control:checked~label.sk-toggleable__label-arrow:before {content: \"▾\";}#sk-container-id-1 div.sk-estimator input.sk-toggleable__control:checked~label.sk-toggleable__label {background-color: #d4ebff;}#sk-container-id-1 div.sk-label input.sk-toggleable__control:checked~label.sk-toggleable__label {background-color: #d4ebff;}#sk-container-id-1 input.sk-hidden--visually {border: 0;clip: rect(1px 1px 1px 1px);clip: rect(1px, 1px, 1px, 1px);height: 1px;margin: -1px;overflow: hidden;padding: 0;position: absolute;width: 1px;}#sk-container-id-1 div.sk-estimator {font-family: monospace;background-color: #f0f8ff;border: 1px dotted black;border-radius: 0.25em;box-sizing: border-box;margin-bottom: 0.5em;}#sk-container-id-1 div.sk-estimator:hover {background-color: #d4ebff;}#sk-container-id-1 div.sk-parallel-item::after {content: \"\";width: 100%;border-bottom: 1px solid gray;flex-grow: 1;}#sk-container-id-1 div.sk-label:hover label.sk-toggleable__label {background-color: #d4ebff;}#sk-container-id-1 div.sk-serial::before {content: \"\";position: absolute;border-left: 1px solid gray;box-sizing: border-box;top: 0;bottom: 0;left: 50%;z-index: 0;}#sk-container-id-1 div.sk-serial {display: flex;flex-direction: column;align-items: center;background-color: white;padding-right: 0.2em;padding-left: 0.2em;position: relative;}#sk-container-id-1 div.sk-item {position: relative;z-index: 1;}#sk-container-id-1 div.sk-parallel {display: flex;align-items: stretch;justify-content: center;background-color: white;position: relative;}#sk-container-id-1 div.sk-item::before, #sk-container-id-1 div.sk-parallel-item::before {content: \"\";position: absolute;border-left: 1px solid gray;box-sizing: border-box;top: 0;bottom: 0;left: 50%;z-index: -1;}#sk-container-id-1 div.sk-parallel-item {display: flex;flex-direction: column;z-index: 1;position: relative;background-color: white;}#sk-container-id-1 div.sk-parallel-item:first-child::after {align-self: flex-end;width: 50%;}#sk-container-id-1 div.sk-parallel-item:last-child::after {align-self: flex-start;width: 50%;}#sk-container-id-1 div.sk-parallel-item:only-child::after {width: 0;}#sk-container-id-1 div.sk-dashed-wrapped {border: 1px dashed gray;margin: 0 0.4em 0.5em 0.4em;box-sizing: border-box;padding-bottom: 0.4em;background-color: white;}#sk-container-id-1 div.sk-label label {font-family: monospace;font-weight: bold;display: inline-block;line-height: 1.2em;}#sk-container-id-1 div.sk-label-container {text-align: center;}#sk-container-id-1 div.sk-container {/* jupyter's `normalize.less` sets `[hidden] { display: none; }` but bootstrap.min.css set `[hidden] { display: none !important; }` so we also need the `!important` here to be able to override the default hidden behavior on the sphinx rendered scikit-learn.org. See: https://github.com/scikit-learn/scikit-learn/issues/21755 */display: inline-block !important;position: relative;}#sk-container-id-1 div.sk-text-repr-fallback {display: none;}</style><div id=\"sk-container-id-1\" class=\"sk-top-container\"><div class=\"sk-text-repr-fallback\"><pre>LinearRegression()</pre><b>In a Jupyter environment, please rerun this cell to show the HTML representation or trust the notebook. <br />On GitHub, the HTML representation is unable to render, please try loading this page with nbviewer.org.</b></div><div class=\"sk-container\" hidden><div class=\"sk-item\"><div class=\"sk-estimator sk-toggleable\"><input class=\"sk-toggleable__control sk-hidden--visually\" id=\"sk-estimator-id-1\" type=\"checkbox\" checked><label for=\"sk-estimator-id-1\" class=\"sk-toggleable__label sk-toggleable__label-arrow\">LinearRegression</label><div class=\"sk-toggleable__content\"><pre>LinearRegression()</pre></div></div></div></div></div>"
      ],
      "text/plain": [
       "LinearRegression()"
      ]
     },
     "execution_count": 13,
     "metadata": {},
     "output_type": "execute_result"
    }
   ],
   "source": [
    "lr = LinearRegression()\n",
    "lr.fit(X_train, y_train)"
   ]
  },
  {
   "cell_type": "code",
   "execution_count": 14,
   "id": "b5ca909e-ef44-495f-bf15-7ca2c0528214",
   "metadata": {},
   "outputs": [],
   "source": [
    "y_pred = lr.predict(X_train)"
   ]
  },
  {
   "cell_type": "code",
   "execution_count": 15,
   "id": "d8183ad6-a1da-4335-89b4-5c6cc48fed0c",
   "metadata": {},
   "outputs": [
    {
     "name": "stdout",
     "output_type": "stream",
     "text": [
      "rmse train: 7.649261930819891\n"
     ]
    }
   ],
   "source": [
    "print('rmse train:',mean_squared_error(y_train, y_pred, squared=False))"
   ]
  },
  {
   "cell_type": "code",
   "execution_count": 16,
   "id": "aff65f26-2256-4317-a5ff-b74cca292590",
   "metadata": {},
   "outputs": [],
   "source": [
    "del df_jan_2023\n",
    "del X_train"
   ]
  },
  {
   "cell_type": "code",
   "execution_count": 17,
   "id": "32bf96b3-b272-4ad5-b6d7-5e9242fea60b",
   "metadata": {},
   "outputs": [
    {
     "name": "stderr",
     "output_type": "stream",
     "text": [
      "/tmp/ipykernel_10222/2767776986.py:4: SettingWithCopyWarning: \n",
      "A value is trying to be set on a copy of a slice from a DataFrame.\n",
      "Try using .loc[row_indexer,col_indexer] = value instead\n",
      "\n",
      "See the caveats in the documentation: https://pandas.pydata.org/pandas-docs/stable/user_guide/indexing.html#returning-a-view-versus-a-copy\n",
      "  df_feb_2023_no_outliers[categorical] = df_feb_2023_no_outliers[categorical].astype(str)\n"
     ]
    }
   ],
   "source": [
    "df_feb_2023['duration'] = (df_feb_2023.tpep_dropoff_datetime - df_feb_2023.tpep_pickup_datetime).dt.total_seconds()/60\n",
    "df_feb_2023_no_outliers = df_feb_2023[df_feb_2023['duration'].between(1, 60)]\n",
    "categorical = ['PULocationID', 'DOLocationID']\n",
    "df_feb_2023_no_outliers[categorical] = df_feb_2023_no_outliers[categorical].astype(str)\n",
    "val_dicts = df_feb_2023_no_outliers[categorical].to_dict(orient='records')"
   ]
  },
  {
   "cell_type": "code",
   "execution_count": 18,
   "id": "66b20e2d-cc2d-4d59-88b4-d31d41ffb636",
   "metadata": {},
   "outputs": [],
   "source": [
    "del df_feb_2023"
   ]
  },
  {
   "cell_type": "code",
   "execution_count": 19,
   "id": "2f4a493d-009e-4d20-b1e5-d2fda8dc34b7",
   "metadata": {},
   "outputs": [],
   "source": [
    "X_val = dv.transform(val_dicts)\n",
    "target = 'duration'\n",
    "y_val = df_feb_2023_no_outliers[target].values"
   ]
  },
  {
   "cell_type": "code",
   "execution_count": 20,
   "id": "e4128a8d-0eea-4e97-8f0f-a286f330084c",
   "metadata": {},
   "outputs": [
    {
     "name": "stdout",
     "output_type": "stream",
     "text": [
      "rmse val: 7.811817675774269\n"
     ]
    }
   ],
   "source": [
    "y_pred_val = lr.predict(X_val)\n",
    "print('rmse val:', mean_squared_error(y_val, y_pred_val, squared=False))"
   ]
  },
  {
   "cell_type": "code",
   "execution_count": 22,
   "id": "f7e17a01-7b41-4417-b195-d4b454f6bc65",
   "metadata": {},
   "outputs": [],
   "source": [
    "#capture model for later use\n",
    "import pickle\n",
    "with open('model.bin', 'wb') as f_out:\n",
    "    pickle.dump((dv, lr), f_out)"
   ]
  },
  {
   "cell_type": "code",
   "execution_count": null,
   "id": "549ae160-c0c3-4c0f-ab23-1db0232ff863",
   "metadata": {},
   "outputs": [],
   "source": []
  }
 ],
 "metadata": {
  "kernelspec": {
   "display_name": "Python 3 (ipykernel)",
   "language": "python",
   "name": "python3"
  },
  "language_info": {
   "codemirror_mode": {
    "name": "ipython",
    "version": 3
   },
   "file_extension": ".py",
   "mimetype": "text/x-python",
   "name": "python",
   "nbconvert_exporter": "python",
   "pygments_lexer": "ipython3",
   "version": "3.11.7"
  }
 },
 "nbformat": 4,
 "nbformat_minor": 5
}
